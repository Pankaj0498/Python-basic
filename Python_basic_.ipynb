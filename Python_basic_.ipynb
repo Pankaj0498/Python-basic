{
  "nbformat": 4,
  "nbformat_minor": 0,
  "metadata": {
    "colab": {
      "provenance": []
    },
    "kernelspec": {
      "name": "python3",
      "display_name": "Python 3"
    },
    "language_info": {
      "name": "python"
    }
  },
  "cells": [
    {
      "cell_type": "markdown",
      "source": [
        "# Python Basics – Theory Questions"
      ],
      "metadata": {
        "id": "FyLn2tTarOGd"
      }
    },
    {
      "cell_type": "markdown",
      "source": [
        "Q1.What is Python, and why is it popular?\n",
        "\n",
        "\n",
        "Ans.Python is a high-level, interpreted programming language known for its simplicity and readability. It's popular due to its vast library support, community, and versatility across web development, data science, AI, automation, and more."
      ],
      "metadata": {
        "id": "bqTWhMeupIIU"
      }
    },
    {
      "cell_type": "markdown",
      "source": [
        "Q2.What is an interpreter in Python?\n",
        "\n",
        "\n",
        "Ans.An interpreter is a program that reads and executes code line-by-line. Python uses an interpreter to translate source code into machine code during runtime.\n",
        "\n"
      ],
      "metadata": {
        "id": "gacDXzRLpShg"
      }
    },
    {
      "cell_type": "markdown",
      "source": [
        "Q3.What are pre-defined keywords in Python?\n",
        "\n",
        "\n",
        "Ans.  Keywords are reserved words that have special meaning in Python, like if, for, def, return, etc."
      ],
      "metadata": {
        "id": "z-oHMDj1pZey"
      }
    },
    {
      "cell_type": "markdown",
      "source": [
        "Q4.Can keywords be used as variable names?\n",
        "\n",
        "Ans.\n",
        "No, keywords cannot be used as variable names in Python."
      ],
      "metadata": {
        "id": "VAlF5TZPpgyu"
      }
    },
    {
      "cell_type": "markdown",
      "source": [
        "Q5.What is mutability in Python?\n",
        "\n",
        "\n",
        "Ans.Mutability refers to whether an object can be changed after it's created. Mutable objects can be changed (e.g., lists), while immutable ones cannot (e.g., tuples, strings)."
      ],
      "metadata": {
        "id": "k1kE9WWWp0Sq"
      }
    },
    {
      "cell_type": "markdown",
      "source": [
        "Q6.Why are lists mutable, but tuples are immutable?\n",
        "\n",
        "\n",
        "Ans. Lists are designed to allow dynamic data changes, hence mutable. Tuples are used when fixed data is needed, hence immutable for reliability and performance."
      ],
      "metadata": {
        "id": "yWRuiGyIp-gM"
      }
    },
    {
      "cell_type": "markdown",
      "source": [
        "Q7.What is the difference between == and is operators in Python?\n",
        "\n",
        "\n",
        "Ans.  == checks for value equality, while is checks for object identity (whether both point to the same object in memory)."
      ],
      "metadata": {
        "id": "2YN1HADBqBvm"
      }
    },
    {
      "cell_type": "markdown",
      "source": [
        "Q8.What are logical operators in Python?\n",
        "\n",
        "\n",
        "Ans. Logical operators include and, or, and not, used to combine conditional statements."
      ],
      "metadata": {
        "id": "jycwGiFdqXMe"
      }
    },
    {
      "cell_type": "markdown",
      "source": [
        "Q9.What is type casting in Python?\n",
        "\n",
        "\n",
        "Ans.Type casting is converting one data type into another, like converting a string to an integer."
      ],
      "metadata": {
        "id": "omRGeoCDqWep"
      }
    },
    {
      "cell_type": "markdown",
      "source": [
        "Q10.Difference between implicit and explicit type casting?\n",
        "\n",
        "\n",
        "Ans.\n",
        "\n",
        "Implicit: Python automatically converts the type.\n",
        "\n",
        "Explicit: Programmer manually converts the type using functions like int(), float(), etc."
      ],
      "metadata": {
        "id": "NL5UNemdqk0D"
      }
    },
    {
      "cell_type": "markdown",
      "source": [
        "Q11.What is the purpose of conditional statements in Python?\n",
        "\n",
        "\n",
        "Ans. They allow decision-making in code based on conditions using if, elif, and else."
      ],
      "metadata": {
        "id": "QF65g4uSquQv"
      }
    },
    {
      "cell_type": "markdown",
      "source": [
        "Q12.How does the elif statement work?\n",
        "\n",
        "\n",
        "Ans. elif stands for \"else if\". It checks another condition if the previous if was False."
      ],
      "metadata": {
        "id": "jzZPqM7Sqyy0"
      }
    },
    {
      "cell_type": "markdown",
      "source": [
        "Q13.Difference between for and while loops?\n",
        "\n",
        "\n",
        "Ans. for loops iterate over sequences; while loops run based on a condition being true."
      ],
      "metadata": {
        "id": "xm8fBzNvq5wQ"
      }
    },
    {
      "cell_type": "markdown",
      "source": [
        "Q14. Scenario where a while loop is more suitable than a for loop?\n",
        "\n",
        "\n",
        "Ans.When you don't know how many iterations are needed beforehand—e.g., reading user input until they type \"exit\"."
      ],
      "metadata": {
        "id": "XxVFpBpcq_zf"
      }
    },
    {
      "cell_type": "markdown",
      "source": [
        "# Practical Questions"
      ],
      "metadata": {
        "id": "NPqZIA9drTpc"
      }
    },
    {
      "cell_type": "markdown",
      "source": [
        "Q1.Write a Python program to print \"Hello, World!"
      ],
      "metadata": {
        "id": "Udj3EuA3rbW6"
      }
    },
    {
      "cell_type": "code",
      "source": [
        "print(\"Hello, World!\")"
      ],
      "metadata": {
        "colab": {
          "base_uri": "https://localhost:8080/"
        },
        "id": "BfNuG-loqxnT",
        "outputId": "4ad8c68e-c9f4-4dca-b080-5794e6495a31"
      },
      "execution_count": null,
      "outputs": [
        {
          "output_type": "stream",
          "name": "stdout",
          "text": [
            "Hello, World!\n"
          ]
        }
      ]
    },
    {
      "cell_type": "markdown",
      "source": [
        "Q2. Write a Python program that displays your name and age"
      ],
      "metadata": {
        "id": "eJG8JvsTrt6b"
      }
    },
    {
      "cell_type": "code",
      "source": [
        "name = \"Pankaj\"\n",
        "age = 29\n",
        "print(\"Name:\", name)\n",
        "print(\"Age:\", age)\n"
      ],
      "metadata": {
        "colab": {
          "base_uri": "https://localhost:8080/"
        },
        "id": "3-ig0U1dtMpt",
        "outputId": "e85a6f30-bce7-4695-88ce-56e425f8e56f"
      },
      "execution_count": 2,
      "outputs": [
        {
          "output_type": "stream",
          "name": "stdout",
          "text": [
            "Name: Pankaj\n",
            "Age: 29\n"
          ]
        }
      ]
    },
    {
      "cell_type": "markdown",
      "source": [
        "Q3. Write code to print all the pre-defined keywords in Python using the keyword library"
      ],
      "metadata": {
        "id": "3HmK6nZfrwGB"
      }
    },
    {
      "cell_type": "code",
      "source": [
        "import keyword\n",
        "print(keyword.kwlist)"
      ],
      "metadata": {
        "colab": {
          "base_uri": "https://localhost:8080/"
        },
        "id": "21FjQ-85tVI-",
        "outputId": "03f8fbd4-5e0b-44c6-bf61-0521553c24b6"
      },
      "execution_count": 3,
      "outputs": [
        {
          "output_type": "stream",
          "name": "stdout",
          "text": [
            "['False', 'None', 'True', 'and', 'as', 'assert', 'async', 'await', 'break', 'class', 'continue', 'def', 'del', 'elif', 'else', 'except', 'finally', 'for', 'from', 'global', 'if', 'import', 'in', 'is', 'lambda', 'nonlocal', 'not', 'or', 'pass', 'raise', 'return', 'try', 'while', 'with', 'yield']\n"
          ]
        }
      ]
    },
    {
      "cell_type": "markdown",
      "source": [
        "Q4. Write code to print all the pre-defined keywords in Python using the keyword library"
      ],
      "metadata": {
        "id": "NNmrqczwtfYc"
      }
    },
    {
      "cell_type": "code",
      "source": [
        "import keyword\n",
        "word = input(\"Enter a word: \")\n",
        "if keyword.iskeyword(word):\n",
        "    print(f\"{word} is a Python keyword.\")\n",
        "else:\n",
        "    print(f\"{word} is not a Python keyword.\")"
      ],
      "metadata": {
        "id": "ZOYUGffNpYXC",
        "colab": {
          "base_uri": "https://localhost:8080/"
        },
        "outputId": "14094d54-aae3-487d-edc6-be27a281ff10"
      },
      "execution_count": 4,
      "outputs": [
        {
          "output_type": "stream",
          "name": "stdout",
          "text": [
            "Enter a word: Pankaj\n",
            "Pankaj is not a Python keyword.\n"
          ]
        }
      ]
    },
    {
      "cell_type": "markdown",
      "source": [
        "Q5.Create a list and tuple in Python, and demonstrate how attempting to change an element works differently\n",
        "for each."
      ],
      "metadata": {
        "id": "Z7kMTVQftxNd"
      }
    },
    {
      "cell_type": "code",
      "source": [
        "# List is mutable\n",
        "my_list = [1, 2, 3]\n",
        "my_list[0] = 10\n",
        "print(\"Modified List:\", my_list)\n",
        "\n",
        "# Tuple is immutable\n",
        "my_tuple = (1, 2, 3)\n",
        "try:\n",
        "    my_tuple[0] = 10\n",
        "except TypeError as e:\n",
        "    print(\"Error modifying tuple:\", e)"
      ],
      "metadata": {
        "colab": {
          "base_uri": "https://localhost:8080/"
        },
        "id": "KunkcEEztsSn",
        "outputId": "138943f6-ad4a-4a6b-9a86-de269b162d52"
      },
      "execution_count": 5,
      "outputs": [
        {
          "output_type": "stream",
          "name": "stdout",
          "text": [
            "Modified List: [10, 2, 3]\n",
            "Error modifying tuple: 'tuple' object does not support item assignment\n"
          ]
        }
      ]
    },
    {
      "cell_type": "markdown",
      "source": [
        "Q6.Write a function to demonstrate the behavior of mutable and immutable arguments"
      ],
      "metadata": {
        "id": "_Ciot1gkt6oG"
      }
    },
    {
      "cell_type": "code",
      "source": [
        "def modify_list(l):\n",
        "    l.append(8)\n",
        "\n",
        "def modify_number(n):\n",
        "    n += 1\n",
        "    return n\n",
        "\n",
        "lst = [1, 5, 7]\n",
        "num = 10\n",
        "\n",
        "modify_list(lst)\n",
        "num = modify_number(num)\n",
        "\n",
        "print(\"List after modification:\", lst)\n",
        "print(\"Number after modification:\", num)"
      ],
      "metadata": {
        "colab": {
          "base_uri": "https://localhost:8080/"
        },
        "id": "XFv3KbOjt6SH",
        "outputId": "efadd2c8-6b03-4845-ae34-f6068f94deba"
      },
      "execution_count": 9,
      "outputs": [
        {
          "output_type": "stream",
          "name": "stdout",
          "text": [
            "List after modification: [1, 5, 7, 8]\n",
            "Number after modification: 11\n"
          ]
        }
      ]
    },
    {
      "cell_type": "markdown",
      "source": [
        "Q7. Write a program that performs basic arithmetic operations on two user-input numbers"
      ],
      "metadata": {
        "id": "oGMPW-cwuCDZ"
      }
    },
    {
      "cell_type": "code",
      "source": [
        "a = float(input(\"Enter first number: \"))\n",
        "b = float(input(\"Enter second number: \"))\n",
        "\n",
        "print(\"Addition:\", a + b)\n",
        "print(\"Subtraction:\", a - b)\n",
        "print(\"Multiplication:\", a * b)\n",
        "print(\"Division:\", a / b)\n"
      ],
      "metadata": {
        "colab": {
          "base_uri": "https://localhost:8080/"
        },
        "id": "XwoLifHbt2sC",
        "outputId": "e4824e47-92f4-4fb2-9181-6c0a2f86c254"
      },
      "execution_count": 10,
      "outputs": [
        {
          "output_type": "stream",
          "name": "stdout",
          "text": [
            "Enter first number: 50\n",
            "Enter second number: 20\n",
            "Addition: 70.0\n",
            "Subtraction: 30.0\n",
            "Multiplication: 1000.0\n",
            "Division: 2.5\n"
          ]
        }
      ]
    },
    {
      "cell_type": "markdown",
      "source": [
        "Q8.Write a program to demonstrate the use of logical operators"
      ],
      "metadata": {
        "id": "_DjkyJJcuY6b"
      }
    },
    {
      "cell_type": "code",
      "source": [
        "a = int(input(\"Enter a number: \"))\n",
        "b = int(input(\"Enter another number: \"))\n",
        "\n",
        "print(\"a > 0 and b > 0:\", a > 0 and b > 0)\n",
        "print(\"a > 0 or b > 0:\", a > 0 or b > 0)\n",
        "print(\"not(a > 0):\", not (a > 0))\n"
      ],
      "metadata": {
        "colab": {
          "base_uri": "https://localhost:8080/"
        },
        "id": "RjivahVDtcM9",
        "outputId": "65e15ba5-7d1b-483d-bae3-88f2e4af7291"
      },
      "execution_count": 11,
      "outputs": [
        {
          "output_type": "stream",
          "name": "stdout",
          "text": [
            "Enter a number: 45\n",
            "Enter another number: 55\n",
            "a > 0 and b > 0: True\n",
            "a > 0 or b > 0: True\n",
            "not(a > 0): False\n"
          ]
        }
      ]
    },
    {
      "cell_type": "markdown",
      "source": [
        "Q9. Write a Python program to convert user input from string to integer, float, and boolean types."
      ],
      "metadata": {
        "id": "ZfNDwSRauhX0"
      }
    },
    {
      "cell_type": "code",
      "source": [
        "s = input(\"Enter a number: \")\n",
        "i = int(s)\n",
        "f = float(s)\n",
        "b = bool(i)\n",
        "\n",
        "print(\"Integer:\", i)\n",
        "print(\"Float:\", f)\n",
        "print(\"Boolean:\", b)"
      ],
      "metadata": {
        "colab": {
          "base_uri": "https://localhost:8080/"
        },
        "id": "eNH1JA2FucIM",
        "outputId": "6a312988-cfa5-48e7-f103-dc6e037238d8"
      },
      "execution_count": 12,
      "outputs": [
        {
          "output_type": "stream",
          "name": "stdout",
          "text": [
            "Enter a number: 5\n",
            "Integer: 5\n",
            "Float: 5.0\n",
            "Boolean: True\n"
          ]
        }
      ]
    },
    {
      "cell_type": "markdown",
      "source": [
        "Q10. Write code to demonstrate type casting with list elements.\n",
        "\n",
        "\n",
        "\n",
        "\n"
      ],
      "metadata": {
        "id": "7qwBHkCOuuMB"
      }
    },
    {
      "cell_type": "code",
      "source": [
        "lst = ['1', '5', '3']\n",
        "int_lst = [int(x) for x in lst]\n",
        "print(\"Original:\", lst)\n",
        "print(\"After casting:\", int_lst)\n"
      ],
      "metadata": {
        "colab": {
          "base_uri": "https://localhost:8080/"
        },
        "id": "8FLEdztAul_n",
        "outputId": "d1d448af-d48f-42c6-ad4f-dbe2d6bc9526"
      },
      "execution_count": 14,
      "outputs": [
        {
          "output_type": "stream",
          "name": "stdout",
          "text": [
            "Original: ['1', '5', '3']\n",
            "After casting: [1, 5, 3]\n"
          ]
        }
      ]
    },
    {
      "cell_type": "markdown",
      "source": [
        "Q11.Write a program that checks if a number is positive, negative, or zero."
      ],
      "metadata": {
        "id": "pn4HA44Yu-s1"
      }
    },
    {
      "cell_type": "code",
      "source": [
        "n = float(input(\"Enter a number: \"))\n",
        "if n > 0:\n",
        "    print(\"Positive\")\n",
        "elif n < 0:\n",
        "    print(\"Negative\")\n",
        "else:\n",
        "    print(\"Zero\")\n",
        "\n"
      ],
      "metadata": {
        "colab": {
          "base_uri": "https://localhost:8080/"
        },
        "id": "1IhC50YSu04Y",
        "outputId": "d656241f-7ed0-40a7-cc0f-8409aa414190"
      },
      "execution_count": 15,
      "outputs": [
        {
          "output_type": "stream",
          "name": "stdout",
          "text": [
            "Enter a number: -56\n",
            "Negative\n"
          ]
        }
      ]
    },
    {
      "cell_type": "markdown",
      "source": [
        "Q12.Write a for loop to print numbers from 1 to 10."
      ],
      "metadata": {
        "id": "-JNCPd3ivHUc"
      }
    },
    {
      "cell_type": "code",
      "source": [
        "for i in range(1, 11):\n",
        "    print(i)\n"
      ],
      "metadata": {
        "colab": {
          "base_uri": "https://localhost:8080/"
        },
        "id": "FyCPcjwnvEh9",
        "outputId": "48781a00-5419-4647-de92-eb344ad7baad"
      },
      "execution_count": 16,
      "outputs": [
        {
          "output_type": "stream",
          "name": "stdout",
          "text": [
            "1\n",
            "2\n",
            "3\n",
            "4\n",
            "5\n",
            "6\n",
            "7\n",
            "8\n",
            "9\n",
            "10\n"
          ]
        }
      ]
    },
    {
      "cell_type": "markdown",
      "source": [
        "Q13. Write a Python program to find the sum of all even numbers between 1 and 50."
      ],
      "metadata": {
        "id": "pCMaWYfpvQcK"
      }
    },
    {
      "cell_type": "code",
      "source": [
        "total = 0\n",
        "for i in range(2, 51, 2):\n",
        "    total += i\n",
        "print(\"Sum of even numbers:\", total)\n"
      ],
      "metadata": {
        "colab": {
          "base_uri": "https://localhost:8080/"
        },
        "id": "X6zJOQ7JvMnh",
        "outputId": "21dd5ff3-f151-4a23-cb1a-be6d9d8fa46c"
      },
      "execution_count": 17,
      "outputs": [
        {
          "output_type": "stream",
          "name": "stdout",
          "text": [
            "Sum of even numbers: 650\n"
          ]
        }
      ]
    },
    {
      "cell_type": "markdown",
      "source": [
        "Q14.Write a program to reverse a string using a while loop."
      ],
      "metadata": {
        "id": "Gdd11CI0vXNI"
      }
    },
    {
      "cell_type": "code",
      "source": [
        "s = input(\"Enter a string: \")\n",
        "reversed_str = \"\"\n",
        "i = len(s) - 1\n",
        "while i >= 0:\n",
        "    reversed_str += s[i]\n",
        "    i -= 1\n",
        "print(\"Reversed string:\", reversed_str)\n"
      ],
      "metadata": {
        "colab": {
          "base_uri": "https://localhost:8080/"
        },
        "id": "6_NbT73hvTnm",
        "outputId": "68c6cd4c-1ac9-414c-ae98-4b2cec944ddd"
      },
      "execution_count": 20,
      "outputs": [
        {
          "output_type": "stream",
          "name": "stdout",
          "text": [
            "Enter a string: 5.5 4\n",
            "Reversed string: 4 5.5\n"
          ]
        }
      ]
    },
    {
      "cell_type": "markdown",
      "source": [],
      "metadata": {
        "id": "-_W8_gdgvl13"
      }
    },
    {
      "cell_type": "markdown",
      "source": [
        "Q15.Write a Python program to calculate the factorial of a number provided by the user using a while loop."
      ],
      "metadata": {
        "id": "ms5TL0nSvk6V"
      }
    },
    {
      "cell_type": "code",
      "source": [
        "n = int(input(\"Enter a number: \"))\n",
        "factorial = 1\n",
        "i = 1\n",
        "while i <= n:\n",
        "    factorial *= i\n",
        "    i += 1\n",
        "print(\"Factorial:\", factorial)\n",
        "\n"
      ],
      "metadata": {
        "colab": {
          "base_uri": "https://localhost:8080/"
        },
        "id": "PYysRNS5vaHW",
        "outputId": "1762cc8a-c2f4-4612-f852-cf96252da8f0"
      },
      "execution_count": 21,
      "outputs": [
        {
          "output_type": "stream",
          "name": "stdout",
          "text": [
            "Enter a number: 5\n",
            "Factorial: 120\n"
          ]
        }
      ]
    },
    {
      "cell_type": "code",
      "source": [],
      "metadata": {
        "id": "Qkmq0xw1vpPi"
      },
      "execution_count": null,
      "outputs": []
    }
  ]
}